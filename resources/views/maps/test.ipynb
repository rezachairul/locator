{
 "cells": [
  {
   "cell_type": "code",
   "execution_count": 21,
   "metadata": {},
   "outputs": [],
   "source": [
    "import rasterio\n",
    "from rasterio.plot import reshape_as_image\n",
    "import numpy as np\n",
    "from PIL import Image, ImageDraw\n",
    "from osgeo import gdal\n",
    "from osgeo import ogr\n",
    "from osgeo import osr\n",
    "from osgeo import gdal_array\n",
    "from osgeo import gdalconst"
   ]
  },
  {
   "cell_type": "code",
   "execution_count": 31,
   "metadata": {},
   "outputs": [],
   "source": [
    "file_path = f\"D:/Reza/Project/laragon/www/locatorgis/public/storage/uploads/tile_10_11_jk.ecw\""
   ]
  },
  {
   "cell_type": "code",
   "execution_count": null,
   "metadata": {},
   "outputs": [
    {
     "name": "stdout",
     "output_type": "stream",
     "text": [
      "Gagal membuka file ECW\n"
     ]
    }
   ],
   "source": [
    "maps = gdal.Open(file_path)\n",
    "if maps is None:\n",
    "    print(\"Gagal membuka file ECW\")\n",
    "else:\n",
    "    # Konversi ke GeoTIFF\n",
    "    output_path = \"output.tif\"\n",
    "    gdal.Translate(output_path, maps, format=\"GTiff\")\n",
    "    print(f\"File ECW berhasil dikonversi ke {output_path}\")"
   ]
  },
  {
   "cell_type": "code",
   "execution_count": null,
   "metadata": {},
   "outputs": [
    {
     "ename": "RasterioIOError",
     "evalue": "'D:/Reza/Project/laragon/www/locatorgis/public/storage/uploads/Basemap_w2824 - Copy (1).ecw' not recognized as a supported file format.",
     "output_type": "error",
     "traceback": [
      "\u001b[1;31m---------------------------------------------------------------------------\u001b[0m",
      "\u001b[1;31mCPLE_OpenFailedError\u001b[0m                      Traceback (most recent call last)",
      "File \u001b[1;32mrasterio\\\\_base.pyx:310\u001b[0m, in \u001b[0;36mrasterio._base.DatasetBase.__init__\u001b[1;34m()\u001b[0m\n",
      "File \u001b[1;32mrasterio\\\\_base.pyx:221\u001b[0m, in \u001b[0;36mrasterio._base.open_dataset\u001b[1;34m()\u001b[0m\n",
      "File \u001b[1;32mrasterio\\\\_err.pyx:359\u001b[0m, in \u001b[0;36mrasterio._err.exc_wrap_pointer\u001b[1;34m()\u001b[0m\n",
      "\u001b[1;31mCPLE_OpenFailedError\u001b[0m: 'D:/Reza/Project/laragon/www/locatorgis/public/storage/uploads/Basemap_w2824 - Copy (1).ecw' not recognized as a supported file format.",
      "\nDuring handling of the above exception, another exception occurred:\n",
      "\u001b[1;31mRasterioIOError\u001b[0m                           Traceback (most recent call last)",
      "Cell \u001b[1;32mIn[20], line 1\u001b[0m\n\u001b[1;32m----> 1\u001b[0m \u001b[38;5;28;01mwith\u001b[39;00m \u001b[43mrasterio\u001b[49m\u001b[38;5;241;43m.\u001b[39;49m\u001b[43mopen\u001b[49m\u001b[43m(\u001b[49m\u001b[43mfile_path\u001b[49m\u001b[43m)\u001b[49m \u001b[38;5;28;01mas\u001b[39;00m src:\n\u001b[0;32m      2\u001b[0m     img \u001b[38;5;241m=\u001b[39m reshape_as_image(src\u001b[38;5;241m.\u001b[39mread())\n\u001b[0;32m      3\u001b[0m     transform \u001b[38;5;241m=\u001b[39m src\u001b[38;5;241m.\u001b[39mtransform\n",
      "File \u001b[1;32md:\\envs\\locator\\lib\\site-packages\\rasterio\\env.py:463\u001b[0m, in \u001b[0;36mensure_env_with_credentials.<locals>.wrapper\u001b[1;34m(*args, **kwds)\u001b[0m\n\u001b[0;32m    460\u001b[0m     session \u001b[38;5;241m=\u001b[39m DummySession()\n\u001b[0;32m    462\u001b[0m \u001b[38;5;28;01mwith\u001b[39;00m env_ctor(session\u001b[38;5;241m=\u001b[39msession):\n\u001b[1;32m--> 463\u001b[0m     \u001b[38;5;28;01mreturn\u001b[39;00m f(\u001b[38;5;241m*\u001b[39margs, \u001b[38;5;241m*\u001b[39m\u001b[38;5;241m*\u001b[39mkwds)\n",
      "File \u001b[1;32md:\\envs\\locator\\lib\\site-packages\\rasterio\\__init__.py:356\u001b[0m, in \u001b[0;36mopen\u001b[1;34m(fp, mode, driver, width, height, count, crs, transform, dtype, nodata, sharing, opener, **kwargs)\u001b[0m\n\u001b[0;32m    353\u001b[0m     path \u001b[38;5;241m=\u001b[39m _parse_path(raw_dataset_path)\n\u001b[0;32m    355\u001b[0m \u001b[38;5;28;01mif\u001b[39;00m mode \u001b[38;5;241m==\u001b[39m \u001b[38;5;124m\"\u001b[39m\u001b[38;5;124mr\u001b[39m\u001b[38;5;124m\"\u001b[39m:\n\u001b[1;32m--> 356\u001b[0m     dataset \u001b[38;5;241m=\u001b[39m DatasetReader(path, driver\u001b[38;5;241m=\u001b[39mdriver, sharing\u001b[38;5;241m=\u001b[39msharing, \u001b[38;5;241m*\u001b[39m\u001b[38;5;241m*\u001b[39mkwargs)\n\u001b[0;32m    357\u001b[0m \u001b[38;5;28;01melif\u001b[39;00m mode \u001b[38;5;241m==\u001b[39m \u001b[38;5;124m\"\u001b[39m\u001b[38;5;124mr+\u001b[39m\u001b[38;5;124m\"\u001b[39m:\n\u001b[0;32m    358\u001b[0m     dataset \u001b[38;5;241m=\u001b[39m get_writer_for_path(path, driver\u001b[38;5;241m=\u001b[39mdriver)(\n\u001b[0;32m    359\u001b[0m         path, mode, driver\u001b[38;5;241m=\u001b[39mdriver, sharing\u001b[38;5;241m=\u001b[39msharing, \u001b[38;5;241m*\u001b[39m\u001b[38;5;241m*\u001b[39mkwargs\n\u001b[0;32m    360\u001b[0m     )\n",
      "File \u001b[1;32mrasterio\\\\_base.pyx:312\u001b[0m, in \u001b[0;36mrasterio._base.DatasetBase.__init__\u001b[1;34m()\u001b[0m\n",
      "\u001b[1;31mRasterioIOError\u001b[0m: 'D:/Reza/Project/laragon/www/locatorgis/public/storage/uploads/Basemap_w2824 - Copy (1).ecw' not recognized as a supported file format."
     ]
    }
   ],
   "source": [
    "with rasterio.open(output_path) as src:\n",
    "    img = reshape_as_image(src.read())\n",
    "    transform = src.transform\n",
    "    profile = src.profile"
   ]
  },
  {
   "cell_type": "code",
   "execution_count": 4,
   "metadata": {},
   "outputs": [],
   "source": [
    "# Convert Easting/Northing to pixel coordinates\n",
    "x, y = (1, 1)\n",
    "row, col = ~transform * (x, y)  # Inverse transform"
   ]
  },
  {
   "cell_type": "code",
   "execution_count": 5,
   "metadata": {},
   "outputs": [],
   "source": [
    "# Draw points using PIL\n",
    "pil_img = Image.fromarray(img)\n",
    "draw = ImageDraw.Draw(pil_img)\n",
    "draw.ellipse((col-100, row-100, col+100, row+100), fill=\"red\")  # Draw a red circle"
   ]
  },
  {
   "cell_type": "code",
   "execution_count": 12,
   "metadata": {},
   "outputs": [
    {
     "ename": "NameError",
     "evalue": "name 'pil_img' is not defined",
     "output_type": "error",
     "traceback": [
      "\u001b[1;31m---------------------------------------------------------------------------\u001b[0m",
      "\u001b[1;31mNameError\u001b[0m                                 Traceback (most recent call last)",
      "Cell \u001b[1;32mIn[12], line 2\u001b[0m\n\u001b[0;32m      1\u001b[0m \u001b[38;5;66;03m# Save as GeoTIFF\u001b[39;00m\n\u001b[1;32m----> 2\u001b[0m img_modified \u001b[38;5;241m=\u001b[39m np\u001b[38;5;241m.\u001b[39marray(\u001b[43mpil_img\u001b[49m)\n\u001b[0;32m      3\u001b[0m profile\u001b[38;5;241m.\u001b[39mupdate(driver\u001b[38;5;241m=\u001b[39m\u001b[38;5;124m\"\u001b[39m\u001b[38;5;124mGTiff\u001b[39m\u001b[38;5;124m\"\u001b[39m)\n\u001b[0;32m      4\u001b[0m \u001b[38;5;28;01mwith\u001b[39;00m rasterio\u001b[38;5;241m.\u001b[39mopen(\u001b[38;5;124m\"\u001b[39m\u001b[38;5;124moutput.tif\u001b[39m\u001b[38;5;124m\"\u001b[39m, \u001b[38;5;124m\"\u001b[39m\u001b[38;5;124mw\u001b[39m\u001b[38;5;124m\"\u001b[39m, \u001b[38;5;241m*\u001b[39m\u001b[38;5;241m*\u001b[39mprofile) \u001b[38;5;28;01mas\u001b[39;00m dst:\n",
      "\u001b[1;31mNameError\u001b[0m: name 'pil_img' is not defined"
     ]
    }
   ],
   "source": [
    "# Save as GeoTIFF\n",
    "img_modified = np.array(pil_img)\n",
    "profile.update(driver=\"GTiff\")\n",
    "with rasterio.open(\"output.tif\", \"w\", **profile) as dst:\n",
    "    dst.write(img_modified.transpose(2, 0, 1))  # Reorder channels"
   ]
  }
 ],
 "metadata": {
  "kernelspec": {
   "display_name": "locator",
   "language": "python",
   "name": "python3"
  },
  "language_info": {
   "codemirror_mode": {
    "name": "ipython",
    "version": 3
   },
   "file_extension": ".py",
   "mimetype": "text/x-python",
   "name": "python",
   "nbconvert_exporter": "python",
   "pygments_lexer": "ipython3",
   "version": "3.10.16"
  }
 },
 "nbformat": 4,
 "nbformat_minor": 2
}
