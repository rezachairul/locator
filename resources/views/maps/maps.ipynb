{
 "cells": [
  {
   "cell_type": "code",
   "execution_count": 1,
   "metadata": {},
   "outputs": [],
   "source": [
    "\n",
    "import rasterio\n",
    "from rasterio.plot import reshape_as_image\n",
    "import numpy as np\n",
    "from PIL import Image, ImageDraw\n",
    "from osgeo import gdal\n",
    "from osgeo import ogr\n",
    "from osgeo import osr\n",
    "from osgeo import gdal_array\n",
    "from osgeo import gdalconst"
   ]
  },
  {
   "cell_type": "code",
   "execution_count": 2,
   "metadata": {},
   "outputs": [],
   "source": [
    "\n",
    "file_path = f\"D:/Reza/Project/laragon/www/locatorgis/public/storage/uploads/tile_10_11_jk.ecw\""
   ]
  },
  {
   "cell_type": "code",
   "execution_count": 3,
   "metadata": {},
   "outputs": [
    {
     "name": "stdout",
     "output_type": "stream",
     "text": [
      "Gagal membuka file ECW\n"
     ]
    }
   ],
   "source": [
    "maps = gdal.Open(file_path)\n",
    "if maps is None:\n",
    "    print(\"Gagal membuka file ECW\")\n",
    "else:\n",
    "    # Konversi ke GeoTIFF\n",
    "    output_path = \"output.tif\"\n",
    "    gdal.Translate(output_path, maps, format=\"GTiff\")\n",
    "    print(f\"File ECW berhasil dikonversi ke {output_path}\")"
   ]
  },
  {
   "cell_type": "code",
   "execution_count": null,
   "metadata": {},
   "outputs": [],
   "source": [
    "\n",
    "with rasterio.open(output_path) as src:\n",
    "    img = reshape_as_image(src.read())\n",
    "    transform = src.transform\n",
    "    profile = src.profile"
   ]
  },
  {
   "cell_type": "code",
   "execution_count": null,
   "metadata": {},
   "outputs": [],
   "source": [
    "\n",
    "# Convert Easting/Northing to pixel coordinates\n",
    "x, y = (1, 1)\n",
    "row, col = ~transform * (x, y)  # Inverse transform"
   ]
  },
  {
   "cell_type": "code",
   "execution_count": null,
   "metadata": {},
   "outputs": [],
   "source": [
    "\n",
    "# Draw points using PIL\n",
    "pil_img = Image.fromarray(img)\n",
    "draw = ImageDraw.Draw(pil_img)\n",
    "draw.ellipse((col-100, row-100, col+100, row+100), fill=\"red\")  # Draw a red circle"
   ]
  },
  {
   "cell_type": "code",
   "execution_count": null,
   "metadata": {},
   "outputs": [],
   "source": [
    "\n",
    "# Save as GeoTIFF\n",
    "img_modified = np.array(pil_img)\n",
    "profile.update(driver=\"GTiff\")\n",
    "with rasterio.open(\"output.tif\", \"w\", **profile) as dst:\n",
    "    dst.write(img_modified.transpose(2, 0, 1))  # Reorder channels"
   ]
  }
 ],
 "metadata": {
  "kernelspec": {
   "display_name": "locator",
   "language": "python",
   "name": "python3"
  },
  "language_info": {
   "codemirror_mode": {
    "name": "ipython",
    "version": 3
   },
   "file_extension": ".py",
   "mimetype": "text/x-python",
   "name": "python",
   "nbconvert_exporter": "python",
   "pygments_lexer": "ipython3",
   "version": "3.10.16"
  }
 },
 "nbformat": 4,
 "nbformat_minor": 2
}
